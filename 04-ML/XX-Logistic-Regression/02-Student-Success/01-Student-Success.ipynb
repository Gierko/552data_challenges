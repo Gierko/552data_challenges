{
 "cells": [
  {
   "cell_type": "markdown",
   "metadata": {},
   "source": [
    "# Logistic Regression\n",
    "\n",
    "## Exercise 2\n",
    "\n",
    "### Introduction\n",
    "\n",
    "In this exercice you will be in charge of helping an **High School**, you will have to find ways to help their students **pass classes**. <br>\n",
    "To do so you will be using a dataset they *created*.<br>\n",
    "The data attributes include student grades, demographic, social and school related features and it was collected by using *school reports and questionnaires*.\n",
    "\n",
    "\n",
    "**Dataset:** \"student-mat.csv\"<br>\n",
    "\n",
    "**Columns:** <br>\n",
    "1 **school** - student's school (binary: 'GP' - Gabriel Pereira or 'MS' - Mousinho da Silveira)<br>\n",
    "2 **sex** - student's sex (binary: 'F' - female or 'M' - male)<br>\n",
    "3 **age** - student's age (numeric: from 15 to 22)<br>\n",
    "4 **address** - student's home address type (binary: 'U' - urban or 'R' - rural)<br>\n",
    "5 **famsize** - family size (binary: 'LE3' - less or equal to 3 or 'GT3' - greater than 3)<br>\n",
    "6 **Pstatus** - parent's cohabitation status (binary: 'T' - living together or 'A' - apart)<br>\n",
    "7 **Medu** - mother's education (numeric: 0 - none, 1 - primary education (4th grade), 2 - 5th to 9th grade, 3 - secondary education or 4 - higher education)<br>\n",
    "8 **Fedu** - father's education (numeric: 0 - none, 1 - primary education (4th grade), 2 - 5th to 9th grade, 3 - secondary education or 4 - higher education)<br>\n",
    "9 **Mjob** - mother's job (nominal: 'teacher', 'health' care related, civil 'services' (e.g. administrative or police), 'at_home' or 'other')<br>\n",
    "10 **Fjob** - father's job (nominal: 'teacher', 'health' care related, civil 'services' (e.g. administrative or police), 'at_home' or 'other')<br>\n",
    "11 **reason** - reason to choose this school (nominal: close to 'home', school 'reputation', 'course' preference or 'other')<br>\n",
    "12 **guardian** - student's guardian (nominal: 'mother', 'father' or 'other')<br>\n",
    "13 **traveltime** - home to school travel time (numeric: 1 - <15 min., 2 - 15 to 30 min., 3 - 30 min. to 1 hour, or 4 - >1 hour)<br>\n",
    "14 **studytime** - weekly study time (numeric: 1 - <2 hours, 2 - 2 to 5 hours, 3 - 5 to 10 hours, or 4 - >10 hours)<br>\n",
    "15 **failures** - number of past class failures (numeric: n if 1<=n<3, else 4)<br>\n",
    "16 **schoolsup** - extra educational support (binary: yes or no)<br>\n",
    "17 **famsup** - family educational support (binary: yes or no)<br>\n",
    "18 **paid** - extra paid classes within the course subject (Math or Portuguese) (binary: yes or no)<br>\n",
    "19 **activities** - extra-curricular activities (binary: yes or no)<br>\n",
    "20 **nursery** - attended nursery school (binary: yes or no)<br>\n",
    "21 **higher** - wants to take higher education (binary: yes or no)<br>\n",
    "22 **internet** - Internet access at home (binary: yes or no)<br>\n",
    "23 **romantic** - with a romantic relationship (binary: yes or no)<br>\n",
    "24 **famrel** - quality of family relationships (numeric: from 1 - very bad to 5 - excellent)<br>\n",
    "25 **freetime** - free time after school (numeric: from 1 - very low to 5 - very high)<br>\n",
    "26 **goout** - going out with friends (numeric: from 1 - very low to 5 - very high)<br>\n",
    "27 **Dalc** - workday alcohol consumption (numeric: from 1 - very low to 5 - very high)<br>\n",
    "28 **Walc** - weekend alcohol consumption (numeric: from 1 - very low to 5 - very high)<br>\n",
    "29 **health** - current health status (numeric: from 1 - very bad to 5 - very good)<br>\n",
    "30 **absences** - number of school absences (numeric: from 0 to 93)<br>\n",
    "31 **G1** - first period grade (numeric: from 0 to 20)<br>\n",
    "31 **G2** - second period grade (numeric: from 0 to 20)<br>\n",
    "32 **G3** - final grade (numeric: from 0 to 20, output target)<br>\n",
    "\n",
    "### Questions\n",
    "\n",
    "1. What are the most relevant factors in the final grade?\n",
    "2. What recommandations should the school give to the students?\n",
    "3. What actions can the school take?\n",
    "\n",
    "### Exercise Layout\n",
    "\n",
    "1. Data exploration.\n",
    "2. Create a model that will predict if a student pass or not.\n",
    "3. Create a test dataset that will represents the students after the school take action.\n",
    "4. Show the improvements that have been made with these changes.\n",
    "5. Recomand differents approches the school could choose.\n",
    "\n",
    "### Ressources\n",
    "\n",
    "**Dataset**\n",
    "\n",
    "[https://archive.ics.uci.edu/ml/datasets/Student+Performance](https://archive.ics.uci.edu/ml/datasets/Student+Performance)\n",
    "\n",
    "**Papers**\n",
    "\n",
    "[P. Cortez and A. Silva. Using Data Mining to Predict Secondary School Student Performance. In A. Brito and J. Teixeira Eds., Proceedings of 5th FUture BUsiness TEChnology Conference (FUBUTEC 2008) pp. 5-12, Porto, Portugal, April, 2008, EUROSIS, ISBN 978-9077381-39-7.](http://www3.dsi.uminho.pt/pcortez/student.pdf)"
   ]
  },
  {
   "cell_type": "markdown",
   "metadata": {},
   "source": [
    "## 1/ Data Exploration\n",
    "\n",
    "First we need to take a look at our data to make sure we don't have any **missing values**.<br>\n",
    "Then we will start with an **heatmap of correlation** between features."
   ]
  },
  {
   "cell_type": "code",
   "execution_count": 1,
   "metadata": {},
   "outputs": [],
   "source": [
    "# The usual imports\n",
    "import numpy as np\n",
    "import pandas as pd\n",
    "import seaborn as sns\n",
    "import matplotlib.pyplot as plt\n",
    "%matplotlib inline"
   ]
  },
  {
   "cell_type": "code",
   "execution_count": 2,
   "metadata": {},
   "outputs": [
    {
     "data": {
      "text/html": [
       "<div>\n",
       "<style scoped>\n",
       "    .dataframe tbody tr th:only-of-type {\n",
       "        vertical-align: middle;\n",
       "    }\n",
       "\n",
       "    .dataframe tbody tr th {\n",
       "        vertical-align: top;\n",
       "    }\n",
       "\n",
       "    .dataframe thead th {\n",
       "        text-align: right;\n",
       "    }\n",
       "</style>\n",
       "<table border=\"1\" class=\"dataframe\">\n",
       "  <thead>\n",
       "    <tr style=\"text-align: right;\">\n",
       "      <th></th>\n",
       "      <th>school</th>\n",
       "      <th>sex</th>\n",
       "      <th>age</th>\n",
       "      <th>address</th>\n",
       "      <th>famsize</th>\n",
       "      <th>Pstatus</th>\n",
       "      <th>Medu</th>\n",
       "      <th>Fedu</th>\n",
       "      <th>Mjob</th>\n",
       "      <th>Fjob</th>\n",
       "      <th>...</th>\n",
       "      <th>famrel</th>\n",
       "      <th>freetime</th>\n",
       "      <th>goout</th>\n",
       "      <th>Dalc</th>\n",
       "      <th>Walc</th>\n",
       "      <th>health</th>\n",
       "      <th>absences</th>\n",
       "      <th>G1</th>\n",
       "      <th>G2</th>\n",
       "      <th>G3</th>\n",
       "    </tr>\n",
       "  </thead>\n",
       "  <tbody>\n",
       "    <tr>\n",
       "      <th>0</th>\n",
       "      <td>GP</td>\n",
       "      <td>F</td>\n",
       "      <td>18</td>\n",
       "      <td>U</td>\n",
       "      <td>GT3</td>\n",
       "      <td>A</td>\n",
       "      <td>4</td>\n",
       "      <td>4</td>\n",
       "      <td>at_home</td>\n",
       "      <td>teacher</td>\n",
       "      <td>...</td>\n",
       "      <td>4</td>\n",
       "      <td>3</td>\n",
       "      <td>4</td>\n",
       "      <td>1</td>\n",
       "      <td>1</td>\n",
       "      <td>3</td>\n",
       "      <td>6</td>\n",
       "      <td>5</td>\n",
       "      <td>6</td>\n",
       "      <td>6</td>\n",
       "    </tr>\n",
       "    <tr>\n",
       "      <th>1</th>\n",
       "      <td>GP</td>\n",
       "      <td>F</td>\n",
       "      <td>17</td>\n",
       "      <td>U</td>\n",
       "      <td>GT3</td>\n",
       "      <td>T</td>\n",
       "      <td>1</td>\n",
       "      <td>1</td>\n",
       "      <td>at_home</td>\n",
       "      <td>other</td>\n",
       "      <td>...</td>\n",
       "      <td>5</td>\n",
       "      <td>3</td>\n",
       "      <td>3</td>\n",
       "      <td>1</td>\n",
       "      <td>1</td>\n",
       "      <td>3</td>\n",
       "      <td>4</td>\n",
       "      <td>5</td>\n",
       "      <td>5</td>\n",
       "      <td>6</td>\n",
       "    </tr>\n",
       "    <tr>\n",
       "      <th>2</th>\n",
       "      <td>GP</td>\n",
       "      <td>F</td>\n",
       "      <td>15</td>\n",
       "      <td>U</td>\n",
       "      <td>LE3</td>\n",
       "      <td>T</td>\n",
       "      <td>1</td>\n",
       "      <td>1</td>\n",
       "      <td>at_home</td>\n",
       "      <td>other</td>\n",
       "      <td>...</td>\n",
       "      <td>4</td>\n",
       "      <td>3</td>\n",
       "      <td>2</td>\n",
       "      <td>2</td>\n",
       "      <td>3</td>\n",
       "      <td>3</td>\n",
       "      <td>10</td>\n",
       "      <td>7</td>\n",
       "      <td>8</td>\n",
       "      <td>10</td>\n",
       "    </tr>\n",
       "    <tr>\n",
       "      <th>3</th>\n",
       "      <td>GP</td>\n",
       "      <td>F</td>\n",
       "      <td>15</td>\n",
       "      <td>U</td>\n",
       "      <td>GT3</td>\n",
       "      <td>T</td>\n",
       "      <td>4</td>\n",
       "      <td>2</td>\n",
       "      <td>health</td>\n",
       "      <td>services</td>\n",
       "      <td>...</td>\n",
       "      <td>3</td>\n",
       "      <td>2</td>\n",
       "      <td>2</td>\n",
       "      <td>1</td>\n",
       "      <td>1</td>\n",
       "      <td>5</td>\n",
       "      <td>2</td>\n",
       "      <td>15</td>\n",
       "      <td>14</td>\n",
       "      <td>15</td>\n",
       "    </tr>\n",
       "    <tr>\n",
       "      <th>4</th>\n",
       "      <td>GP</td>\n",
       "      <td>F</td>\n",
       "      <td>16</td>\n",
       "      <td>U</td>\n",
       "      <td>GT3</td>\n",
       "      <td>T</td>\n",
       "      <td>3</td>\n",
       "      <td>3</td>\n",
       "      <td>other</td>\n",
       "      <td>other</td>\n",
       "      <td>...</td>\n",
       "      <td>4</td>\n",
       "      <td>3</td>\n",
       "      <td>2</td>\n",
       "      <td>1</td>\n",
       "      <td>2</td>\n",
       "      <td>5</td>\n",
       "      <td>4</td>\n",
       "      <td>6</td>\n",
       "      <td>10</td>\n",
       "      <td>10</td>\n",
       "    </tr>\n",
       "  </tbody>\n",
       "</table>\n",
       "<p>5 rows × 33 columns</p>\n",
       "</div>"
      ],
      "text/plain": [
       "  school sex  age address famsize Pstatus  Medu  Fedu     Mjob      Fjob  ...  \\\n",
       "0     GP   F   18       U     GT3       A     4     4  at_home   teacher  ...   \n",
       "1     GP   F   17       U     GT3       T     1     1  at_home     other  ...   \n",
       "2     GP   F   15       U     LE3       T     1     1  at_home     other  ...   \n",
       "3     GP   F   15       U     GT3       T     4     2   health  services  ...   \n",
       "4     GP   F   16       U     GT3       T     3     3    other     other  ...   \n",
       "\n",
       "  famrel freetime  goout  Dalc  Walc health absences  G1  G2  G3  \n",
       "0      4        3      4     1     1      3        6   5   6   6  \n",
       "1      5        3      3     1     1      3        4   5   5   6  \n",
       "2      4        3      2     2     3      3       10   7   8  10  \n",
       "3      3        2      2     1     1      5        2  15  14  15  \n",
       "4      4        3      2     1     2      5        4   6  10  10  \n",
       "\n",
       "[5 rows x 33 columns]"
      ]
     },
     "execution_count": 2,
     "metadata": {},
     "output_type": "execute_result"
    }
   ],
   "source": [
    "# Dataset import\n",
    "df = pd.read_csv('student-mat.csv', sep=\";\")\n",
    "df.head()"
   ]
  },
  {
   "cell_type": "code",
   "execution_count": 3,
   "metadata": {},
   "outputs": [
    {
     "name": "stdout",
     "output_type": "stream",
     "text": [
      "<class 'pandas.core.frame.DataFrame'>\n",
      "RangeIndex: 395 entries, 0 to 394\n",
      "Data columns (total 33 columns):\n",
      "school        395 non-null object\n",
      "sex           395 non-null object\n",
      "age           395 non-null int64\n",
      "address       395 non-null object\n",
      "famsize       395 non-null object\n",
      "Pstatus       395 non-null object\n",
      "Medu          395 non-null int64\n",
      "Fedu          395 non-null int64\n",
      "Mjob          395 non-null object\n",
      "Fjob          395 non-null object\n",
      "reason        395 non-null object\n",
      "guardian      395 non-null object\n",
      "traveltime    395 non-null int64\n",
      "studytime     395 non-null int64\n",
      "failures      395 non-null int64\n",
      "schoolsup     395 non-null object\n",
      "famsup        395 non-null object\n",
      "paid          395 non-null object\n",
      "activities    395 non-null object\n",
      "nursery       395 non-null object\n",
      "higher        395 non-null object\n",
      "internet      395 non-null object\n",
      "romantic      395 non-null object\n",
      "famrel        395 non-null int64\n",
      "freetime      395 non-null int64\n",
      "goout         395 non-null int64\n",
      "Dalc          395 non-null int64\n",
      "Walc          395 non-null int64\n",
      "health        395 non-null int64\n",
      "absences      395 non-null int64\n",
      "G1            395 non-null int64\n",
      "G2            395 non-null int64\n",
      "G3            395 non-null int64\n",
      "dtypes: int64(16), object(17)\n",
      "memory usage: 101.9+ KB\n"
     ]
    }
   ],
   "source": [
    "df.info()"
   ]
  },
  {
   "cell_type": "code",
   "execution_count": 4,
   "metadata": {},
   "outputs": [
    {
     "data": {
      "text/plain": [
       "False"
      ]
     },
     "execution_count": 4,
     "metadata": {},
     "output_type": "execute_result"
    }
   ],
   "source": [
    "df.isnull().values.any()"
   ]
  },
  {
   "cell_type": "markdown",
   "metadata": {},
   "source": [
    "### a/ Data conversion\n",
    "\n",
    "After a quick look at the dataframe we can see that we **don't** have any **missing or null** value.<br>\n",
    "But we have a lot of **non numerical** data that we will need to **convert** to numerical value or get rid of.\n",
    "\n",
    "We have **17 columns** with non numerical value.<br>\n",
    "We can start by converting the binary one like sex, address, schoolsup...<br>\n",
    "\n",
    "Then we will have only **4 nominal** variable to deal with Mjob, Fjob, reason and guardian.\n",
    "\n",
    "Before we start transforming these variable let's just take a look at these variables and make **4 violin plot**."
   ]
  },
  {
   "cell_type": "code",
   "execution_count": 5,
   "metadata": {
    "scrolled": true
   },
   "outputs": [
    {
     "data": {
      "text/plain": [
       "<matplotlib.axes._subplots.AxesSubplot at 0x1084593c8>"
      ]
     },
     "execution_count": 5,
     "metadata": {},
     "output_type": "execute_result"
    },
    {
     "data": {
      "image/png": "[encoded data removed]",
      "text/plain": [
       "<Figure size 1080x360 with 2 Axes>"
      ]
     },
     "metadata": {
      "needs_background": "light"
     },
     "output_type": "display_data"
    }
   ],
   "source": [
    "fig, ax = plt.subplots(1,2, figsize=[15, 5])\n",
    "sns.violinplot(x=\"Fjob\", y=\"G1\", data=df, order=[\"health\", \"teacher\", \"services\", \"at_home\", \"other\"], ax=ax[0])\n",
    "sns.violinplot(x=\"Mjob\", y=\"G1\", data=df, order=[\"health\", \"teacher\", \"services\", \"at_home\", \"other\"], ax=ax[1])"
   ]
  },
  {
   "cell_type": "code",
   "execution_count": 6,
   "metadata": {
    "scrolled": false
   },
   "outputs": [
    {
     "data": {
      "text/plain": [
       "<matplotlib.axes._subplots.AxesSubplot at 0x1a1b637160>"
      ]
     },
     "execution_count": 6,
     "metadata": {},
     "output_type": "execute_result"
    },
    {
     "data": {
      "image/png": "[encoded data removed]",
      "text/plain": [
       "<Figure size 432x288 with 1 Axes>"
      ]
     },
     "metadata": {
      "needs_background": "light"
     },
     "output_type": "display_data"
    }
   ],
   "source": [
    "sns.violinplot(x=\"reason\", y=\"G1\", data=df)"
   ]
  },
  {
   "cell_type": "code",
   "execution_count": 7,
   "metadata": {},
   "outputs": [
    {
     "data": {
      "text/plain": [
       "<matplotlib.axes._subplots.AxesSubplot at 0x1a1b7e0160>"
      ]
     },
     "execution_count": 7,
     "metadata": {},
     "output_type": "execute_result"
    },
    {
     "data": {
      "image/png": "[encoded data removed]",
      "text/plain": [
       "<Figure size 432x288 with 1 Axes>"
      ]
     },
     "metadata": {
      "needs_background": "light"
     },
     "output_type": "display_data"
    }
   ],
   "source": [
    "sns.violinplot(x=\"guardian\", y=\"G1\", data=df)"
   ]
  },
  {
   "cell_type": "markdown",
   "metadata": {},
   "source": [
    "### Dataset transformation process\n",
    "\n",
    "1. Create a clean-up dictionary for the binary attributes. [[ Hint ]](https://pbpython.com/categorical-encoding.html#approach-1-find-and-replace)\n",
    "2. Convert the non binary columns to new binary columns. [[ Hint ]](https://pbpython.com/categorical-encoding.html#scikit-learn)"
   ]
  },
  {
   "cell_type": "code",
   "execution_count": 8,
   "metadata": {},
   "outputs": [
    {
     "data": {
      "text/html": [
       "<div>\n",
       "<style scoped>\n",
       "    .dataframe tbody tr th:only-of-type {\n",
       "        vertical-align: middle;\n",
       "    }\n",
       "\n",
       "    .dataframe tbody tr th {\n",
       "        vertical-align: top;\n",
       "    }\n",
       "\n",
       "    .dataframe thead th {\n",
       "        text-align: right;\n",
       "    }\n",
       "</style>\n",
       "<table border=\"1\" class=\"dataframe\">\n",
       "  <thead>\n",
       "    <tr style=\"text-align: right;\">\n",
       "      <th></th>\n",
       "      <th>GPschool</th>\n",
       "      <th>male</th>\n",
       "      <th>age</th>\n",
       "      <th>urban</th>\n",
       "      <th>largefam</th>\n",
       "      <th>Ptogether</th>\n",
       "      <th>Medu</th>\n",
       "      <th>Fedu</th>\n",
       "      <th>Mjob</th>\n",
       "      <th>Fjob</th>\n",
       "      <th>...</th>\n",
       "      <th>famrel</th>\n",
       "      <th>freetime</th>\n",
       "      <th>goout</th>\n",
       "      <th>Dalc</th>\n",
       "      <th>Walc</th>\n",
       "      <th>health</th>\n",
       "      <th>absences</th>\n",
       "      <th>G1</th>\n",
       "      <th>G2</th>\n",
       "      <th>G3</th>\n",
       "    </tr>\n",
       "  </thead>\n",
       "  <tbody>\n",
       "    <tr>\n",
       "      <th>0</th>\n",
       "      <td>0</td>\n",
       "      <td>0</td>\n",
       "      <td>18</td>\n",
       "      <td>1</td>\n",
       "      <td>1</td>\n",
       "      <td>0</td>\n",
       "      <td>4</td>\n",
       "      <td>4</td>\n",
       "      <td>at_home</td>\n",
       "      <td>teacher</td>\n",
       "      <td>...</td>\n",
       "      <td>4</td>\n",
       "      <td>3</td>\n",
       "      <td>4</td>\n",
       "      <td>1</td>\n",
       "      <td>1</td>\n",
       "      <td>3</td>\n",
       "      <td>6</td>\n",
       "      <td>5</td>\n",
       "      <td>6</td>\n",
       "      <td>6</td>\n",
       "    </tr>\n",
       "    <tr>\n",
       "      <th>1</th>\n",
       "      <td>0</td>\n",
       "      <td>0</td>\n",
       "      <td>17</td>\n",
       "      <td>1</td>\n",
       "      <td>1</td>\n",
       "      <td>1</td>\n",
       "      <td>1</td>\n",
       "      <td>1</td>\n",
       "      <td>at_home</td>\n",
       "      <td>other</td>\n",
       "      <td>...</td>\n",
       "      <td>5</td>\n",
       "      <td>3</td>\n",
       "      <td>3</td>\n",
       "      <td>1</td>\n",
       "      <td>1</td>\n",
       "      <td>3</td>\n",
       "      <td>4</td>\n",
       "      <td>5</td>\n",
       "      <td>5</td>\n",
       "      <td>6</td>\n",
       "    </tr>\n",
       "    <tr>\n",
       "      <th>2</th>\n",
       "      <td>0</td>\n",
       "      <td>0</td>\n",
       "      <td>15</td>\n",
       "      <td>1</td>\n",
       "      <td>0</td>\n",
       "      <td>1</td>\n",
       "      <td>1</td>\n",
       "      <td>1</td>\n",
       "      <td>at_home</td>\n",
       "      <td>other</td>\n",
       "      <td>...</td>\n",
       "      <td>4</td>\n",
       "      <td>3</td>\n",
       "      <td>2</td>\n",
       "      <td>2</td>\n",
       "      <td>3</td>\n",
       "      <td>3</td>\n",
       "      <td>10</td>\n",
       "      <td>7</td>\n",
       "      <td>8</td>\n",
       "      <td>10</td>\n",
       "    </tr>\n",
       "    <tr>\n",
       "      <th>3</th>\n",
       "      <td>0</td>\n",
       "      <td>0</td>\n",
       "      <td>15</td>\n",
       "      <td>1</td>\n",
       "      <td>1</td>\n",
       "      <td>1</td>\n",
       "      <td>4</td>\n",
       "      <td>2</td>\n",
       "      <td>health</td>\n",
       "      <td>services</td>\n",
       "      <td>...</td>\n",
       "      <td>3</td>\n",
       "      <td>2</td>\n",
       "      <td>2</td>\n",
       "      <td>1</td>\n",
       "      <td>1</td>\n",
       "      <td>5</td>\n",
       "      <td>2</td>\n",
       "      <td>15</td>\n",
       "      <td>14</td>\n",
       "      <td>15</td>\n",
       "    </tr>\n",
       "    <tr>\n",
       "      <th>4</th>\n",
       "      <td>0</td>\n",
       "      <td>0</td>\n",
       "      <td>16</td>\n",
       "      <td>1</td>\n",
       "      <td>1</td>\n",
       "      <td>1</td>\n",
       "      <td>3</td>\n",
       "      <td>3</td>\n",
       "      <td>other</td>\n",
       "      <td>other</td>\n",
       "      <td>...</td>\n",
       "      <td>4</td>\n",
       "      <td>3</td>\n",
       "      <td>2</td>\n",
       "      <td>1</td>\n",
       "      <td>2</td>\n",
       "      <td>5</td>\n",
       "      <td>4</td>\n",
       "      <td>6</td>\n",
       "      <td>10</td>\n",
       "      <td>10</td>\n",
       "    </tr>\n",
       "  </tbody>\n",
       "</table>\n",
       "<p>5 rows × 33 columns</p>\n",
       "</div>"
      ],
      "text/plain": [
       "   GPschool  male  age  urban  largefam  Ptogether  Medu  Fedu     Mjob  \\\n",
       "0         0     0   18      1         1          0     4     4  at_home   \n",
       "1         0     0   17      1         1          1     1     1  at_home   \n",
       "2         0     0   15      1         0          1     1     1  at_home   \n",
       "3         0     0   15      1         1          1     4     2   health   \n",
       "4         0     0   16      1         1          1     3     3    other   \n",
       "\n",
       "       Fjob  ... famrel freetime  goout  Dalc  Walc  health  absences  G1  G2  \\\n",
       "0   teacher  ...      4        3      4     1     1       3         6   5   6   \n",
       "1     other  ...      5        3      3     1     1       3         4   5   5   \n",
       "2     other  ...      4        3      2     2     3       3        10   7   8   \n",
       "3  services  ...      3        2      2     1     1       5         2  15  14   \n",
       "4     other  ...      4        3      2     1     2       5         4   6  10   \n",
       "\n",
       "   G3  \n",
       "0   6  \n",
       "1   6  \n",
       "2  10  \n",
       "3  15  \n",
       "4  10  \n",
       "\n",
       "[5 rows x 33 columns]"
      ]
     },
     "execution_count": 8,
     "metadata": {},
     "output_type": "execute_result"
    }
   ],
   "source": [
    "# 1. Create a clean-up dictionary for the binary attributes\n",
    "\n",
    "# Rename binary attribute ex: (sex => male, address => urban, ...)\n",
    "df.rename(\n",
    "    columns={\n",
    "        'school': 'GPschool',\n",
    "        'sex': 'male',\n",
    "        'address': 'urban',\n",
    "        'famsize': 'largefam',\n",
    "        'Pstatus': 'Ptogether'\n",
    "    },\n",
    "    inplace=True\n",
    ")\n",
    "\n",
    "# Create mapping dictionnary to replace the binary attribute value\n",
    "cleanup_binaries = {\n",
    "    \"GPschool\": {\"GP\": 0, \"MS\": 1},\n",
    "    \"male\": {\"F\": 0, \"M\": 1},\n",
    "    \"urban\": {\"U\": 1, \"R\": 0},\n",
    "    \"largefam\": {\"LE3\": 0, \"GT3\": 1},\n",
    "    \"Ptogether\": {\"A\": 0, \"T\": 1},\n",
    "    \"schoolsup\": {\"yes\": 1, \"no\":0},\n",
    "    \"famsup\": {\"yes\": 1, \"no\":0},\n",
    "    \"paid\": {\"yes\": 1, \"no\":0},\n",
    "    \"activities\": {\"yes\": 1, \"no\":0},\n",
    "    \"nursery\": {\"yes\": 1, \"no\":0},\n",
    "    \"higher\": {\"yes\": 1, \"no\":0},\n",
    "    \"internet\": {\"yes\": 1, \"no\":0},\n",
    "    \"romantic\": {\"yes\": 1, \"no\":0}\n",
    "}\n",
    "\n",
    "# Replace the values\n",
    "df.replace(cleanup_binaries, inplace=True)\n",
    "df.head()"
   ]
  },
  {
   "cell_type": "code",
   "execution_count": 9,
   "metadata": {},
   "outputs": [
    {
     "data": {
      "text/plain": [
       "array(['GPschool', 'male', 'age', 'urban', 'largefam', 'Ptogether',\n",
       "       'Medu', 'Fedu', 'traveltime', 'studytime', 'failures', 'schoolsup',\n",
       "       'famsup', 'paid', 'activities', 'nursery', 'higher', 'internet',\n",
       "       'romantic', 'famrel', 'freetime', 'goout', 'Dalc', 'Walc',\n",
       "       'health', 'absences', 'G1', 'G2', 'G3', 'Mjob_at_home',\n",
       "       'Mjob_health', 'Mjob_other', 'Mjob_services', 'Mjob_teacher',\n",
       "       'Fjob_at_home', 'Fjob_health', 'Fjob_other', 'Fjob_services',\n",
       "       'Fjob_teacher', 'guardian_father', 'guardian_mother',\n",
       "       'guardian_other', 'reason_course', 'reason_home', 'reason_other',\n",
       "       'reason_reputation'], dtype=object)"
      ]
     },
     "execution_count": 9,
     "metadata": {},
     "output_type": "execute_result"
    }
   ],
   "source": [
    "# 2. Convert the non binary columns to new binary columns.\n",
    "\n",
    "# Iterate over each columns\n",
    "    # use the sklearn.preprocessing LabelBinarizer\n",
    "    # join the new data to the dataset\n",
    "    # drop the original column\n",
    "\n",
    "from sklearn.preprocessing import LabelBinarizer\n",
    "\n",
    "columns = ['Mjob', 'Fjob', 'guardian', 'reason']\n",
    "\n",
    "# Iterate over each columns    \n",
    "for column in columns:\n",
    "    # use the sklearn.preprocessing LabelBinarizer\n",
    "    lb_style = LabelBinarizer()\n",
    "    lb_results = lb_style.fit_transform(df[column])\n",
    "    new_columns = map(lambda col : column + \"_\" + col, lb_style.classes_)\n",
    "    new_df = pd.DataFrame(lb_results, columns=new_columns)\n",
    "    # join the new data to the dataset\n",
    "    df = df.join(new_df)\n",
    "    # drop the original column\n",
    "    df.drop(column, inplace=True, axis=1)\n",
    "\n",
    "df.columns.values"
   ]
  },
  {
   "cell_type": "markdown",
   "metadata": {},
   "source": [
    "## b/ Target variable conversion\n",
    "\n",
    "To use the logistic regression model we need our **target** variable to be a binary.<br>\n",
    "So column **\"G3\"** need to be renamed **\"pass\"** and the values need to be `1 if x >= 10 else 0`."
   ]
  },
  {
   "cell_type": "code",
   "execution_count": 10,
   "metadata": {},
   "outputs": [],
   "source": [
    "# Convert to True and False, then convert to 0 and 1\n",
    "df[[\"G1\",\"G2\",\"G3\"]] = (df[[\"G1\",\"G2\",\"G3\"]] >= 10) * 1"
   ]
  },
  {
   "cell_type": "code",
   "execution_count": 11,
   "metadata": {},
   "outputs": [
    {
     "data": {
      "text/html": [
       "<div>\n",
       "<style scoped>\n",
       "    .dataframe tbody tr th:only-of-type {\n",
       "        vertical-align: middle;\n",
       "    }\n",
       "\n",
       "    .dataframe tbody tr th {\n",
       "        vertical-align: top;\n",
       "    }\n",
       "\n",
       "    .dataframe thead th {\n",
       "        text-align: right;\n",
       "    }\n",
       "</style>\n",
       "<table border=\"1\" class=\"dataframe\">\n",
       "  <thead>\n",
       "    <tr style=\"text-align: right;\">\n",
       "      <th></th>\n",
       "      <th>G1</th>\n",
       "      <th>G2</th>\n",
       "      <th>G3</th>\n",
       "    </tr>\n",
       "  </thead>\n",
       "  <tbody>\n",
       "    <tr>\n",
       "      <th>0</th>\n",
       "      <td>0</td>\n",
       "      <td>0</td>\n",
       "      <td>0</td>\n",
       "    </tr>\n",
       "    <tr>\n",
       "      <th>1</th>\n",
       "      <td>0</td>\n",
       "      <td>0</td>\n",
       "      <td>0</td>\n",
       "    </tr>\n",
       "    <tr>\n",
       "      <th>2</th>\n",
       "      <td>0</td>\n",
       "      <td>0</td>\n",
       "      <td>1</td>\n",
       "    </tr>\n",
       "    <tr>\n",
       "      <th>3</th>\n",
       "      <td>1</td>\n",
       "      <td>1</td>\n",
       "      <td>1</td>\n",
       "    </tr>\n",
       "    <tr>\n",
       "      <th>4</th>\n",
       "      <td>0</td>\n",
       "      <td>1</td>\n",
       "      <td>1</td>\n",
       "    </tr>\n",
       "  </tbody>\n",
       "</table>\n",
       "</div>"
      ],
      "text/plain": [
       "   G1  G2  G3\n",
       "0   0   0   0\n",
       "1   0   0   0\n",
       "2   0   0   1\n",
       "3   1   1   1\n",
       "4   0   1   1"
      ]
     },
     "execution_count": 11,
     "metadata": {},
     "output_type": "execute_result"
    }
   ],
   "source": [
    "df[[\"G1\",\"G2\",\"G3\"]].head()"
   ]
  },
  {
   "cell_type": "code",
   "execution_count": 12,
   "metadata": {},
   "outputs": [],
   "source": [
    "df.rename(columns={'G3': 'pass'}, inplace=True)"
   ]
  },
  {
   "cell_type": "markdown",
   "metadata": {},
   "source": [
    "## c/ Data exploration\n",
    "\n",
    "Now that all our data is ready to be processed we can take a closer **look at it**!"
   ]
  },
  {
   "cell_type": "code",
   "execution_count": 13,
   "metadata": {},
   "outputs": [
    {
     "data": {
      "text/plain": [
       "(array([ 0.5,  1.5,  2.5,  3.5,  4.5,  5.5,  6.5,  7.5,  8.5,  9.5, 10.5,\n",
       "        11.5, 12.5, 13.5, 14.5, 15.5, 16.5, 17.5, 18.5, 19.5, 20.5, 21.5,\n",
       "        22.5, 23.5, 24.5, 25.5, 26.5, 27.5, 28.5, 29.5, 30.5, 31.5, 32.5,\n",
       "        33.5, 34.5, 35.5, 36.5, 37.5, 38.5, 39.5, 40.5, 41.5, 42.5, 43.5,\n",
       "        44.5, 45.5]), <a list of 46 Text yticklabel objects>)"
      ]
     },
     "execution_count": 13,
     "metadata": {},
     "output_type": "execute_result"
    },
    {
     "data": {
      "image/png": "[encoded data removed]",
      "text/plain": [
       "<Figure size 1080x720 with 2 Axes>"
      ]
     },
     "metadata": {
      "needs_background": "light"
     },
     "output_type": "display_data"
    }
   ],
   "source": [
    "plt.figure(figsize=(15,10))\n",
    "sns.heatmap(df.corr())\n",
    "plt.xticks(rotation=90)\n",
    "plt.yticks(rotation = 0)"
   ]
  },
  {
   "cell_type": "code",
   "execution_count": 14,
   "metadata": {},
   "outputs": [
    {
     "data": {
      "text/plain": [
       "failures            -0.337731\n",
       "goout               -0.183399\n",
       "age                 -0.179645\n",
       "guardian_other      -0.107977\n",
       "schoolsup           -0.099860\n",
       "romantic            -0.097737\n",
       "reason_course       -0.092534\n",
       "absences            -0.092244\n",
       "Mjob_other          -0.074163\n",
       "health              -0.065668\n",
       "famsup              -0.059219\n",
       "Dalc                -0.057343\n",
       "traveltime          -0.044446\n",
       "Ptogether           -0.044050\n",
       "largefam            -0.041842\n",
       "Fjob_services       -0.041572\n",
       "Mjob_at_home        -0.039031\n",
       "Fjob_at_home        -0.034839\n",
       "GPschool            -0.031254\n",
       "Walc                -0.029957\n",
       "freetime            -0.018321\n",
       "nursery             -0.008784\n",
       "Fjob_health         -0.001962\n",
       "reason_home         -0.001526\n",
       "Mjob_teacher         0.001349\n",
       "guardian_mother      0.009890\n",
       "activities           0.012414\n",
       "Fjob_other           0.026180\n",
       "famrel               0.046683\n",
       "urban                0.052282\n",
       "Fjob_teacher         0.052557\n",
       "reason_other         0.053316\n",
       "guardian_father      0.059347\n",
       "Mjob_services        0.060114\n",
       "internet             0.061791\n",
       "reason_reputation    0.067771\n",
       "male                 0.070618\n",
       "studytime            0.074613\n",
       "Mjob_health          0.080484\n",
       "paid                 0.092665\n",
       "Fedu                 0.108057\n",
       "Medu                 0.115396\n",
       "higher               0.157708\n",
       "G1                   0.642974\n",
       "G2                   0.825393\n",
       "pass                 1.000000\n",
       "Name: pass, dtype: float64"
      ]
     },
     "execution_count": 14,
     "metadata": {},
     "output_type": "execute_result"
    }
   ],
   "source": [
    "df.corr()[\"pass\"].sort_values()"
   ]
  },
  {
   "cell_type": "markdown",
   "metadata": {},
   "source": [
    "## 2/ Model Creation\n",
    "\n",
    "Now that we have a better understanding of our dataset we can create a model that will predict if a student pass or not.\n",
    "We will try different ways to train our model in order to find the most accurate one.\n",
    "\n",
    "1. Train a model with all the parameters\n",
    "2. Train a model without G2\n",
    "3. Train a model without G1 and G2\n",
    "4. Compare the accuracy of the three model\n",
    "5. After these observasions try to find a better model if possible."
   ]
  },
  {
   "cell_type": "code",
   "execution_count": 15,
   "metadata": {},
   "outputs": [],
   "source": [
    "# split the trainning data from the test data\n",
    "from sklearn.model_selection import train_test_split"
   ]
  },
  {
   "cell_type": "code",
   "execution_count": 16,
   "metadata": {},
   "outputs": [],
   "source": [
    "X = df.drop(columns=['pass'], axis=1, inplace=False)\n",
    "y = df['pass']"
   ]
  },
  {
   "cell_type": "code",
   "execution_count": 17,
   "metadata": {},
   "outputs": [],
   "source": [
    "X_train, X_test, y_train, y_test = train_test_split(X, y, test_size=0.33, random_state=42)"
   ]
  },
  {
   "cell_type": "code",
   "execution_count": 18,
   "metadata": {},
   "outputs": [],
   "source": [
    "from sklearn.linear_model import LogisticRegression"
   ]
  },
  {
   "cell_type": "code",
   "execution_count": 19,
   "metadata": {},
   "outputs": [
    {
     "name": "stderr",
     "output_type": "stream",
     "text": [
      "/Users/gaetan/anaconda3/lib/python3.7/site-packages/sklearn/linear_model/logistic.py:432: FutureWarning: Default solver will be changed to 'lbfgs' in 0.22. Specify a solver to silence this warning.\n",
      "  FutureWarning)\n"
     ]
    },
    {
     "data": {
      "text/plain": [
       "LogisticRegression(C=1.0, class_weight=None, dual=False, fit_intercept=True,\n",
       "                   intercept_scaling=1, l1_ratio=None, max_iter=100,\n",
       "                   multi_class='warn', n_jobs=None, penalty='l2',\n",
       "                   random_state=None, solver='warn', tol=0.0001, verbose=0,\n",
       "                   warm_start=False)"
      ]
     },
     "execution_count": 19,
     "metadata": {},
     "output_type": "execute_result"
    }
   ],
   "source": [
    "logmodel_beforeT1 = LogisticRegression()\n",
    "logmodel_beforeT1.fit(X_train,y_train)"
   ]
  },
  {
   "cell_type": "code",
   "execution_count": 20,
   "metadata": {},
   "outputs": [],
   "source": [
    "predictions = logmodel_beforeT1.predict(X_test)"
   ]
  },
  {
   "cell_type": "code",
   "execution_count": 21,
   "metadata": {},
   "outputs": [],
   "source": [
    "from sklearn.metrics import classification_report"
   ]
  },
  {
   "cell_type": "code",
   "execution_count": 22,
   "metadata": {},
   "outputs": [
    {
     "name": "stdout",
     "output_type": "stream",
     "text": [
      "              precision    recall  f1-score   support\n",
      "\n",
      "           0       0.86      0.88      0.87        50\n",
      "           1       0.93      0.91      0.92        81\n",
      "\n",
      "    accuracy                           0.90       131\n",
      "   macro avg       0.89      0.90      0.90       131\n",
      "weighted avg       0.90      0.90      0.90       131\n",
      "\n"
     ]
    }
   ],
   "source": [
    "print(classification_report(y_test,predictions))"
   ]
  },
  {
   "cell_type": "code",
   "execution_count": 23,
   "metadata": {},
   "outputs": [],
   "source": [
    "from sklearn.metrics import confusion_matrix"
   ]
  },
  {
   "cell_type": "code",
   "execution_count": 24,
   "metadata": {},
   "outputs": [
    {
     "data": {
      "text/plain": [
       "<matplotlib.axes._subplots.AxesSubplot at 0x1a1d1a5a90>"
      ]
     },
     "execution_count": 24,
     "metadata": {},
     "output_type": "execute_result"
    },
    {
     "data": {
      "image/png": "[encoded data removed]",
      "text/plain": [
       "<Figure size 216x144 with 2 Axes>"
      ]
     },
     "metadata": {
      "needs_background": "light"
     },
     "output_type": "display_data"
    }
   ],
   "source": [
    "plt.figure(figsize=(3,2))\n",
    "sns.heatmap(confusion_matrix(y_test,predictions), annot=True, annot_kws={\"size\": 16})"
   ]
  },
  {
   "cell_type": "markdown",
   "metadata": {},
   "source": [
    "**Model 1 - Is already at 90% accuracy**"
   ]
  },
  {
   "cell_type": "code",
   "execution_count": 25,
   "metadata": {},
   "outputs": [
    {
     "name": "stdout",
     "output_type": "stream",
     "text": [
      "              precision    recall  f1-score   support\n",
      "\n",
      "           0       0.81      0.68      0.74        50\n",
      "           1       0.82      0.90      0.86        81\n",
      "\n",
      "    accuracy                           0.82       131\n",
      "   macro avg       0.81      0.79      0.80       131\n",
      "weighted avg       0.82      0.82      0.81       131\n",
      "\n"
     ]
    },
    {
     "name": "stderr",
     "output_type": "stream",
     "text": [
      "/Users/gaetan/anaconda3/lib/python3.7/site-packages/sklearn/linear_model/logistic.py:432: FutureWarning: Default solver will be changed to 'lbfgs' in 0.22. Specify a solver to silence this warning.\n",
      "  FutureWarning)\n"
     ]
    }
   ],
   "source": [
    "X = df.drop(\n",
    "    columns=[\n",
    "        'pass',\n",
    "        'G2'\n",
    "    ],\n",
    "    axis=1,\n",
    "    inplace=False\n",
    ")\n",
    "y = df['pass']\n",
    "X_train, X_test, y_train, y_test = train_test_split(X, y, test_size=0.33, random_state=42)\n",
    "logmodel_T1 = LogisticRegression()\n",
    "logmodel_T1.fit(X_train,y_train)\n",
    "predictions = logmodel_T1.predict(X_test)\n",
    "print(classification_report(y_test,predictions))"
   ]
  },
  {
   "cell_type": "code",
   "execution_count": 26,
   "metadata": {
    "scrolled": true
   },
   "outputs": [
    {
     "name": "stdout",
     "output_type": "stream",
     "text": [
      "              precision    recall  f1-score   support\n",
      "\n",
      "           0       0.71      0.34      0.46        50\n",
      "           1       0.69      0.91      0.79        81\n",
      "\n",
      "    accuracy                           0.69       131\n",
      "   macro avg       0.70      0.63      0.62       131\n",
      "weighted avg       0.70      0.69      0.66       131\n",
      "\n"
     ]
    },
    {
     "name": "stderr",
     "output_type": "stream",
     "text": [
      "/Users/gaetan/anaconda3/lib/python3.7/site-packages/sklearn/linear_model/logistic.py:432: FutureWarning: Default solver will be changed to 'lbfgs' in 0.22. Specify a solver to silence this warning.\n",
      "  FutureWarning)\n"
     ]
    }
   ],
   "source": [
    "X = df.drop(\n",
    "    columns=[\n",
    "        'G1',\n",
    "        'G2',\n",
    "        'pass'\n",
    "    ],\n",
    "    axis=1,\n",
    "    inplace=False\n",
    ")\n",
    "y = df['pass']\n",
    "X_train, X_test, y_train, y_test = train_test_split(X, y, test_size=0.33, random_state=42)\n",
    "logmodel_T2 = LogisticRegression()\n",
    "logmodel_T2.fit(X_train,y_train)\n",
    "predictions = logmodel_T2.predict(X_test)\n",
    "print(classification_report(y_test,predictions))"
   ]
  },
  {
   "cell_type": "markdown",
   "metadata": {},
   "source": [
    "### Trimester models\n",
    "\n",
    "We now have a model for three differents points in time:\n",
    "1. before 1st trimester\n",
    "2. after 1st trimester\n",
    "3. after 2nd trimester"
   ]
  },
  {
   "cell_type": "markdown",
   "metadata": {},
   "source": [
    "## 3/ Create hypothesis\n",
    "\n",
    "With this new model we will be able to create and test our hypothesis before submiting them to the school.\n",
    "\n",
    "1. Find 2 to 4 hypothetical actions the school could take. (ex: audio courses for student with a high travel time, which represente 22% of the school)\n",
    "2. Create for each action a new dataframe as the result of this action (ex: traveltime - 1 if traveltime > 2)\n",
    "3. Compare the results of each hypothesis after passing it in the model.\n"
   ]
  },
  {
   "cell_type": "markdown",
   "metadata": {},
   "source": [
    "### Example hypothesis\n",
    "\n",
    "1. Motivate students that don't want to go in higher education\n",
    "2. Give audio ressouces for students with long travel time\n",
    "3. Reduce absences"
   ]
  },
  {
   "cell_type": "markdown",
   "metadata": {},
   "source": [
    "## Hypothesis 1 - Travel Time Optimisation\n",
    "\n",
    "First let's look at the **proportion** of students by travel time to estimate if it will have any **impact**."
   ]
  },
  {
   "cell_type": "code",
   "execution_count": 27,
   "metadata": {},
   "outputs": [
    {
     "data": {
      "text/plain": [
       "<matplotlib.axes._subplots.AxesSubplot at 0x1a1cb59f28>"
      ]
     },
     "execution_count": 27,
     "metadata": {},
     "output_type": "execute_result"
    },
    {
     "data": {
      "image/png": "[encoded data removed]",
      "text/plain": [
       "<Figure size 432x288 with 1 Axes>"
      ]
     },
     "metadata": {
      "needs_background": "light"
     },
     "output_type": "display_data"
    }
   ],
   "source": [
    "df.groupby('traveltime').count()['pass'].plot(kind=\"bar\")"
   ]
  },
  {
   "cell_type": "code",
   "execution_count": 28,
   "metadata": {},
   "outputs": [
    {
     "data": {
      "text/plain": [
       "traveltime\n",
       "1    0.688716\n",
       "2    0.635514\n",
       "3    0.652174\n",
       "4    0.625000\n",
       "Name: pass, dtype: float64"
      ]
     },
     "execution_count": 28,
     "metadata": {},
     "output_type": "execute_result"
    }
   ],
   "source": [
    "df.groupby('traveltime').mean()['pass']"
   ]
  },
  {
   "cell_type": "markdown",
   "metadata": {},
   "source": [
    "**Half** of the **failing students** could benefit from some travel time optimisation.<br>\n",
    "Let's **simuluate** the outcome with our models."
   ]
  },
  {
   "cell_type": "code",
   "execution_count": 29,
   "metadata": {},
   "outputs": [],
   "source": [
    "traveltime_df = df\n",
    "traveltime_df[\"traveltime\"] = traveltime_df[\"traveltime\"].apply(lambda x: x - 1 if x > 1 else x)"
   ]
  },
  {
   "cell_type": "code",
   "execution_count": 30,
   "metadata": {},
   "outputs": [
    {
     "data": {
      "text/plain": [
       "<matplotlib.axes._subplots.AxesSubplot at 0x1a1d2c1438>"
      ]
     },
     "execution_count": 30,
     "metadata": {},
     "output_type": "execute_result"
    },
    {
     "data": {
      "image/png": "[encoded data removed]",
      "text/plain": [
       "<Figure size 432x288 with 1 Axes>"
      ]
     },
     "metadata": {
      "needs_background": "light"
     },
     "output_type": "display_data"
    }
   ],
   "source": [
    "traveltime_df.groupby('traveltime').count()['pass'].plot(kind=\"bar\")"
   ]
  },
  {
   "cell_type": "code",
   "execution_count": 31,
   "metadata": {},
   "outputs": [
    {
     "data": {
      "text/plain": [
       "[395, 260]"
      ]
     },
     "execution_count": 31,
     "metadata": {},
     "output_type": "execute_result"
    }
   ],
   "source": [
    "X = traveltime_df.drop(\n",
    "    columns=[\n",
    "        'pass'\n",
    "    ],\n",
    "    axis=1,\n",
    "    inplace=False\n",
    ")\n",
    "traveltime_predictions = logmodel_beforeT1.predict(X)\n",
    "[traveltime_predictions.size, traveltime_predictions.sum()]"
   ]
  },
  {
   "cell_type": "code",
   "execution_count": 32,
   "metadata": {},
   "outputs": [
    {
     "data": {
      "text/plain": [
       "[395, 318]"
      ]
     },
     "execution_count": 32,
     "metadata": {},
     "output_type": "execute_result"
    }
   ],
   "source": [
    "X = df.drop(\n",
    "    columns=[\n",
    "        'G1',\n",
    "        'G2',\n",
    "        'pass'\n",
    "    ],\n",
    "    axis=1,\n",
    "    inplace=False\n",
    ")\n",
    "predictions = logmodel_T2.predict(X)\n",
    "[predictions.size, predictions.sum()]"
   ]
  },
  {
   "cell_type": "markdown",
   "metadata": {},
   "source": [
    "For now this **do not change** the outcome for the student at all.<br> Maybe **increasing** the **study time** by one unit will make it more accurate."
   ]
  },
  {
   "cell_type": "code",
   "execution_count": 33,
   "metadata": {},
   "outputs": [],
   "source": [
    "traveltime_df['studytime'] = traveltime_df['studytime'].apply(lambda x: x + 1 if x < 4 else x)"
   ]
  },
  {
   "cell_type": "code",
   "execution_count": 34,
   "metadata": {},
   "outputs": [
    {
     "data": {
      "text/plain": [
       "[395, 329]"
      ]
     },
     "execution_count": 34,
     "metadata": {},
     "output_type": "execute_result"
    }
   ],
   "source": [
    "X = traveltime_df.drop(\n",
    "    columns=[\n",
    "        'G1',\n",
    "        'G2',\n",
    "        'pass'\n",
    "    ],\n",
    "    axis=1,\n",
    "    inplace=False\n",
    ")\n",
    "traveltime_predictions = logmodel_T2.predict(X)\n",
    "[traveltime_predictions.size, traveltime_predictions.sum()]\n"
   ]
  },
  {
   "cell_type": "markdown",
   "metadata": {},
   "source": [
    "Looking at the prediction we see a **3% increase** in student passing the exam. <br>\n",
    "So this option might **not** be **the priority**."
   ]
  },
  {
   "cell_type": "markdown",
   "metadata": {},
   "source": [
    "## Hypothesis 2 - Motivation to go to higher education\n",
    "\n",
    "First let's look at the **proportion** of students who want to go to higher education and estimate if it will have any **impact**."
   ]
  },
  {
   "cell_type": "code",
   "execution_count": 37,
   "metadata": {},
   "outputs": [
    {
     "data": {
      "text/plain": [
       "higher\n",
       "0     20\n",
       "1    375\n",
       "Name: pass, dtype: int64"
      ]
     },
     "execution_count": 37,
     "metadata": {},
     "output_type": "execute_result"
    }
   ],
   "source": [
    "df.groupby('higher').count()['pass']"
   ]
  },
  {
   "cell_type": "markdown",
   "metadata": {},
   "source": [
    "A very few **5%** of the student don't want go to higher education.<br>\n",
    "**32%** of the student are not passing.\n",
    "\n",
    "This might be interesting to further investigate and maybe even trying to get new data about student carreer plan."
   ]
  },
  {
   "cell_type": "code",
   "execution_count": 39,
   "metadata": {},
   "outputs": [
    {
     "data": {
      "text/html": [
       "<div>\n",
       "<style scoped>\n",
       "    .dataframe tbody tr th:only-of-type {\n",
       "        vertical-align: middle;\n",
       "    }\n",
       "\n",
       "    .dataframe tbody tr th {\n",
       "        vertical-align: top;\n",
       "    }\n",
       "\n",
       "    .dataframe thead th {\n",
       "        text-align: right;\n",
       "    }\n",
       "</style>\n",
       "<table border=\"1\" class=\"dataframe\">\n",
       "  <thead>\n",
       "    <tr style=\"text-align: right;\">\n",
       "      <th></th>\n",
       "      <th>GPschool</th>\n",
       "      <th>male</th>\n",
       "      <th>age</th>\n",
       "      <th>urban</th>\n",
       "      <th>largefam</th>\n",
       "      <th>Ptogether</th>\n",
       "      <th>Medu</th>\n",
       "      <th>Fedu</th>\n",
       "      <th>traveltime</th>\n",
       "      <th>studytime</th>\n",
       "      <th>...</th>\n",
       "      <th>Fjob_other</th>\n",
       "      <th>Fjob_services</th>\n",
       "      <th>Fjob_teacher</th>\n",
       "      <th>guardian_father</th>\n",
       "      <th>guardian_mother</th>\n",
       "      <th>guardian_other</th>\n",
       "      <th>reason_course</th>\n",
       "      <th>reason_home</th>\n",
       "      <th>reason_other</th>\n",
       "      <th>reason_reputation</th>\n",
       "    </tr>\n",
       "    <tr>\n",
       "      <th>pass</th>\n",
       "      <th></th>\n",
       "      <th></th>\n",
       "      <th></th>\n",
       "      <th></th>\n",
       "      <th></th>\n",
       "      <th></th>\n",
       "      <th></th>\n",
       "      <th></th>\n",
       "      <th></th>\n",
       "      <th></th>\n",
       "      <th></th>\n",
       "      <th></th>\n",
       "      <th></th>\n",
       "      <th></th>\n",
       "      <th></th>\n",
       "      <th></th>\n",
       "      <th></th>\n",
       "      <th></th>\n",
       "      <th></th>\n",
       "      <th></th>\n",
       "      <th></th>\n",
       "    </tr>\n",
       "  </thead>\n",
       "  <tbody>\n",
       "    <tr>\n",
       "      <th>0</th>\n",
       "      <td>130</td>\n",
       "      <td>130</td>\n",
       "      <td>130</td>\n",
       "      <td>130</td>\n",
       "      <td>130</td>\n",
       "      <td>130</td>\n",
       "      <td>130</td>\n",
       "      <td>130</td>\n",
       "      <td>130</td>\n",
       "      <td>130</td>\n",
       "      <td>...</td>\n",
       "      <td>130</td>\n",
       "      <td>130</td>\n",
       "      <td>130</td>\n",
       "      <td>130</td>\n",
       "      <td>130</td>\n",
       "      <td>130</td>\n",
       "      <td>130</td>\n",
       "      <td>130</td>\n",
       "      <td>130</td>\n",
       "      <td>130</td>\n",
       "    </tr>\n",
       "    <tr>\n",
       "      <th>1</th>\n",
       "      <td>265</td>\n",
       "      <td>265</td>\n",
       "      <td>265</td>\n",
       "      <td>265</td>\n",
       "      <td>265</td>\n",
       "      <td>265</td>\n",
       "      <td>265</td>\n",
       "      <td>265</td>\n",
       "      <td>265</td>\n",
       "      <td>265</td>\n",
       "      <td>...</td>\n",
       "      <td>265</td>\n",
       "      <td>265</td>\n",
       "      <td>265</td>\n",
       "      <td>265</td>\n",
       "      <td>265</td>\n",
       "      <td>265</td>\n",
       "      <td>265</td>\n",
       "      <td>265</td>\n",
       "      <td>265</td>\n",
       "      <td>265</td>\n",
       "    </tr>\n",
       "  </tbody>\n",
       "</table>\n",
       "<p>2 rows × 45 columns</p>\n",
       "</div>"
      ],
      "text/plain": [
       "      GPschool  male  age  urban  largefam  Ptogether  Medu  Fedu  traveltime  \\\n",
       "pass                                                                            \n",
       "0          130   130  130    130       130        130   130   130         130   \n",
       "1          265   265  265    265       265        265   265   265         265   \n",
       "\n",
       "      studytime  ...  Fjob_other  Fjob_services  Fjob_teacher  \\\n",
       "pass             ...                                            \n",
       "0           130  ...         130            130           130   \n",
       "1           265  ...         265            265           265   \n",
       "\n",
       "      guardian_father  guardian_mother  guardian_other  reason_course  \\\n",
       "pass                                                                    \n",
       "0                 130              130             130            130   \n",
       "1                 265              265             265            265   \n",
       "\n",
       "      reason_home  reason_other  reason_reputation  \n",
       "pass                                                \n",
       "0             130           130                130  \n",
       "1             265           265                265  \n",
       "\n",
       "[2 rows x 45 columns]"
      ]
     },
     "execution_count": 39,
     "metadata": {},
     "output_type": "execute_result"
    }
   ],
   "source": []
  },
  {
   "cell_type": "markdown",
   "metadata": {},
   "source": [
    "## 4/ Conclusion\n",
    "\n",
    "You can now report to the school on what you have found and what are the options available to them."
   ]
  },
  {
   "cell_type": "code",
   "execution_count": null,
   "metadata": {},
   "outputs": [],
   "source": []
  }
 ],
 "metadata": {
  "kernelspec": {
   "display_name": "Python 3",
   "language": "python",
   "name": "python3"
  },
  "language_info": {
   "codemirror_mode": {
    "name": "ipython",
    "version": 3
   },
   "file_extension": ".py",
   "mimetype": "text/x-python",
   "name": "python",
   "nbconvert_exporter": "python",
   "pygments_lexer": "ipython3",
   "version": "3.7.3"
  }
 },
 "nbformat": 4,
 "nbformat_minor": 2
}
